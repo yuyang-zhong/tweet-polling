{
 "cells": [
  {
   "cell_type": "code",
   "execution_count": 35,
   "metadata": {},
   "outputs": [
    {
     "name": "stderr",
     "output_type": "stream",
     "text": [
      "[nltk_data] Downloading package punkt to\n",
      "[nltk_data]     C:\\Users\\CK\\AppData\\Roaming\\nltk_data...\n",
      "[nltk_data]   Package punkt is already up-to-date!\n"
     ]
    }
   ],
   "source": [
    "import pandas as pd\n",
    "# !pip install gensim\n",
    "import numpy as np\n",
    "import gensim\n",
    "import os\n",
    "import string\n",
    "import re\n",
    "import pprint\n",
    "from gensim import corpora, models, similarities\n",
    "from sklearn.cluster import KMeans\n",
    "from sklearn.metrics import silhouette_score\n",
    "from sklearn.manifold import TSNE\n",
    "import nltk\n",
    "from nltk import word_tokenize, tokenize\n",
    "nltk.download('punkt')\n",
    "\n",
    "%matplotlib inline\n",
    "from matplotlib import pyplot as plt\n",
    "#!pip install vaderSentiment\n",
    "from vaderSentiment.vaderSentiment import SentimentIntensityAnalyzer\n",
    "import seaborn as sns\n",
    "import datetime\n",
    "from collections import Counter\n",
    "from tqdm import tqdm\n",
    "tqdm.pandas(desc='progress-bar')\n",
    "from gensim.models.doc2vec import LabeledSentence\n",
    "import operator"
   ]
  },
  {
   "cell_type": "code",
   "execution_count": 2,
   "metadata": {},
   "outputs": [
    {
     "data": {
      "text/plain": [
       "(178897, 21)"
      ]
     },
     "execution_count": 2,
     "metadata": {},
     "output_type": "execute_result"
    }
   ],
   "source": [
    "trump_pd = pd.read_csv('../data/hashtag_donaldtrump.csv', engine='python')\n",
    "trump_df = trump_pd[trump_pd['country'] == 'United States of America']\n",
    "trump_df.shape"
   ]
  },
  {
   "cell_type": "code",
   "execution_count": 3,
   "metadata": {},
   "outputs": [
    {
     "data": {
      "text/plain": [
       "(153595, 21)"
      ]
     },
     "execution_count": 3,
     "metadata": {},
     "output_type": "execute_result"
    }
   ],
   "source": [
    "biden_pd = pd.read_csv('../data/hashtag_joebiden.csv', engine='python')\n",
    "biden_df = biden_pd[biden_pd['country'] == 'United States of America']\n",
    "biden_df.shape"
   ]
  },
  {
   "cell_type": "code",
   "execution_count": 4,
   "metadata": {},
   "outputs": [],
   "source": [
    "def clean_dates(df, date):    \n",
    "    df['created_datetime'] = pd.to_datetime(df['created_at'])\n",
    "    return df[df['created_datetime'] < date]"
   ]
  },
  {
   "cell_type": "code",
   "execution_count": 5,
   "metadata": {},
   "outputs": [
    {
     "name": "stderr",
     "output_type": "stream",
     "text": [
      "C:\\Users\\CK\\Anaconda3\\lib\\site-packages\\ipykernel_launcher.py:2: SettingWithCopyWarning: \n",
      "A value is trying to be set on a copy of a slice from a DataFrame.\n",
      "Try using .loc[row_indexer,col_indexer] = value instead\n",
      "\n",
      "See the caveats in the documentation: http://pandas.pydata.org/pandas-docs/stable/user_guide/indexing.html#returning-a-view-versus-a-copy\n",
      "  \n"
     ]
    }
   ],
   "source": [
    "trump_df = clean_dates(trump_df, datetime.datetime(2020,11,3))\n",
    "biden_df = clean_dates(biden_df, datetime.datetime(2020,11,3))"
   ]
  },
  {
   "cell_type": "code",
   "execution_count": 45,
   "metadata": {},
   "outputs": [],
   "source": [
    "def generate_polarity_scores(df, is_biden):\n",
    "    tweets = df['tweet']\n",
    "    punct_re = r'[^(\\w)#!?@]'\n",
    "    analyzer = SentimentIntensityAnalyzer()\n",
    "    clean_tweets = tweets.str.replace(punct_re, ' ', regex=True).to_list()\n",
    "\n",
    "    #polarity_list = []\n",
    "    voting = []\n",
    "    for tweet in clean_tweets:\n",
    "        vs = analyzer.polarity_scores(tweet)\n",
    "        #vs['tweet'] = tweet\n",
    "        #polarity_list.append(vs)\n",
    "        difference = (vs['pos'] - vs['neg'])\n",
    "        if not is_biden:\n",
    "            difference *= -1\n",
    "        if difference > 0.05:\n",
    "            voting.append(\"biden\")\n",
    "        elif difference < -0.05:\n",
    "            voting.append(\"trump\")\n",
    "        else:\n",
    "            voting.append(\"neutral\")\n",
    "    \n",
    "    return voting\n",
    "    \n",
    "#     return polarity_list\n",
    "#     new_df = pd.DataFrame(polarity_list)\n",
    "#     new_df['state'] = df['state']\n",
    "#     new_df = new_df[['tweet', 'state', 'compound', 'pos', 'neg', 'neu']].sort_values(by=['compound'], ascending=False)\n",
    "#     return new_df"
   ]
  },
  {
   "cell_type": "code",
   "execution_count": 46,
   "metadata": {},
   "outputs": [
    {
     "data": {
      "text/html": [
       "<div>\n",
       "<style scoped>\n",
       "    .dataframe tbody tr th:only-of-type {\n",
       "        vertical-align: middle;\n",
       "    }\n",
       "\n",
       "    .dataframe tbody tr th {\n",
       "        vertical-align: top;\n",
       "    }\n",
       "\n",
       "    .dataframe thead th {\n",
       "        text-align: right;\n",
       "    }\n",
       "</style>\n",
       "<table border=\"1\" class=\"dataframe\">\n",
       "  <thead>\n",
       "    <tr style=\"text-align: right;\">\n",
       "      <th></th>\n",
       "      <th>created_at</th>\n",
       "      <th>tweet_id</th>\n",
       "      <th>tweet</th>\n",
       "      <th>likes</th>\n",
       "      <th>retweet_count</th>\n",
       "      <th>source</th>\n",
       "      <th>user_id</th>\n",
       "      <th>user_name</th>\n",
       "      <th>user_screen_name</th>\n",
       "      <th>user_description</th>\n",
       "      <th>...</th>\n",
       "      <th>lat</th>\n",
       "      <th>long</th>\n",
       "      <th>city</th>\n",
       "      <th>country</th>\n",
       "      <th>continent</th>\n",
       "      <th>state</th>\n",
       "      <th>state_code</th>\n",
       "      <th>collected_at</th>\n",
       "      <th>created_datetime</th>\n",
       "      <th>hashtag</th>\n",
       "    </tr>\n",
       "    <tr>\n",
       "      <th>voting</th>\n",
       "      <th></th>\n",
       "      <th></th>\n",
       "      <th></th>\n",
       "      <th></th>\n",
       "      <th></th>\n",
       "      <th></th>\n",
       "      <th></th>\n",
       "      <th></th>\n",
       "      <th></th>\n",
       "      <th></th>\n",
       "      <th></th>\n",
       "      <th></th>\n",
       "      <th></th>\n",
       "      <th></th>\n",
       "      <th></th>\n",
       "      <th></th>\n",
       "      <th></th>\n",
       "      <th></th>\n",
       "      <th></th>\n",
       "      <th></th>\n",
       "      <th></th>\n",
       "    </tr>\n",
       "  </thead>\n",
       "  <tbody>\n",
       "    <tr>\n",
       "      <td>biden</td>\n",
       "      <td>35663</td>\n",
       "      <td>35663</td>\n",
       "      <td>35663</td>\n",
       "      <td>35663</td>\n",
       "      <td>35663</td>\n",
       "      <td>35661</td>\n",
       "      <td>35663</td>\n",
       "      <td>35663</td>\n",
       "      <td>35663</td>\n",
       "      <td>33906</td>\n",
       "      <td>...</td>\n",
       "      <td>35663</td>\n",
       "      <td>35663</td>\n",
       "      <td>19611</td>\n",
       "      <td>35663</td>\n",
       "      <td>35663</td>\n",
       "      <td>35658</td>\n",
       "      <td>35658</td>\n",
       "      <td>35663</td>\n",
       "      <td>35663</td>\n",
       "      <td>35663</td>\n",
       "    </tr>\n",
       "    <tr>\n",
       "      <td>neutral</td>\n",
       "      <td>47276</td>\n",
       "      <td>47276</td>\n",
       "      <td>47276</td>\n",
       "      <td>47276</td>\n",
       "      <td>47276</td>\n",
       "      <td>47271</td>\n",
       "      <td>47276</td>\n",
       "      <td>47275</td>\n",
       "      <td>47276</td>\n",
       "      <td>44681</td>\n",
       "      <td>...</td>\n",
       "      <td>47276</td>\n",
       "      <td>47276</td>\n",
       "      <td>26503</td>\n",
       "      <td>47276</td>\n",
       "      <td>47276</td>\n",
       "      <td>47276</td>\n",
       "      <td>47276</td>\n",
       "      <td>47276</td>\n",
       "      <td>47276</td>\n",
       "      <td>47276</td>\n",
       "    </tr>\n",
       "    <tr>\n",
       "      <td>trump</td>\n",
       "      <td>33351</td>\n",
       "      <td>33351</td>\n",
       "      <td>33351</td>\n",
       "      <td>33351</td>\n",
       "      <td>33351</td>\n",
       "      <td>33348</td>\n",
       "      <td>33351</td>\n",
       "      <td>33351</td>\n",
       "      <td>33351</td>\n",
       "      <td>31659</td>\n",
       "      <td>...</td>\n",
       "      <td>33351</td>\n",
       "      <td>33351</td>\n",
       "      <td>18123</td>\n",
       "      <td>33351</td>\n",
       "      <td>33351</td>\n",
       "      <td>33347</td>\n",
       "      <td>33347</td>\n",
       "      <td>33351</td>\n",
       "      <td>33351</td>\n",
       "      <td>33351</td>\n",
       "    </tr>\n",
       "  </tbody>\n",
       "</table>\n",
       "<p>3 rows × 23 columns</p>\n",
       "</div>"
      ],
      "text/plain": [
       "         created_at  tweet_id  tweet  likes  retweet_count  source  user_id  \\\n",
       "voting                                                                        \n",
       "biden         35663     35663  35663  35663          35663   35661    35663   \n",
       "neutral       47276     47276  47276  47276          47276   47271    47276   \n",
       "trump         33351     33351  33351  33351          33351   33348    33351   \n",
       "\n",
       "         user_name  user_screen_name  user_description  ...    lat   long  \\\n",
       "voting                                                  ...                 \n",
       "biden        35663             35663             33906  ...  35663  35663   \n",
       "neutral      47275             47276             44681  ...  47276  47276   \n",
       "trump        33351             33351             31659  ...  33351  33351   \n",
       "\n",
       "          city  country  continent  state  state_code  collected_at  \\\n",
       "voting                                                                \n",
       "biden    19611    35663      35663  35658       35658         35663   \n",
       "neutral  26503    47276      47276  47276       47276         47276   \n",
       "trump    18123    33351      33351  33347       33347         33351   \n",
       "\n",
       "         created_datetime  hashtag  \n",
       "voting                              \n",
       "biden               35663    35663  \n",
       "neutral             47276    47276  \n",
       "trump               33351    33351  \n",
       "\n",
       "[3 rows x 23 columns]"
      ]
     },
     "execution_count": 46,
     "metadata": {},
     "output_type": "execute_result"
    }
   ],
   "source": [
    "trump_df['voting'] = generate_polarity_scores(trump_df, False)\n",
    "biden_df['voting'] = generate_polarity_scores(biden_df, True)\n",
    "trump_df.groupby(\"voting\").count()"
   ]
  },
  {
   "cell_type": "code",
   "execution_count": 6,
   "metadata": {},
   "outputs": [
    {
     "data": {
      "text/html": [
       "<div>\n",
       "<style scoped>\n",
       "    .dataframe tbody tr th:only-of-type {\n",
       "        vertical-align: middle;\n",
       "    }\n",
       "\n",
       "    .dataframe tbody tr th {\n",
       "        vertical-align: top;\n",
       "    }\n",
       "\n",
       "    .dataframe thead th {\n",
       "        text-align: right;\n",
       "    }\n",
       "</style>\n",
       "<table border=\"1\" class=\"dataframe\">\n",
       "  <thead>\n",
       "    <tr style=\"text-align: right;\">\n",
       "      <th></th>\n",
       "      <th>tweet</th>\n",
       "      <th>user_screen_name</th>\n",
       "      <th>user_description</th>\n",
       "      <th>likes</th>\n",
       "      <th>retweet_count</th>\n",
       "      <th>state_code</th>\n",
       "      <th>hashtag</th>\n",
       "    </tr>\n",
       "  </thead>\n",
       "  <tbody>\n",
       "    <tr>\n",
       "      <td>0</td>\n",
       "      <td>#Elecciones2020 | En #Florida: #JoeBiden dice ...</td>\n",
       "      <td>elsollatinonews</td>\n",
       "      <td>ðŸŒ� Noticias de interÃ©s para latinos de la c...</td>\n",
       "      <td>0.0</td>\n",
       "      <td>0.0</td>\n",
       "      <td>FL</td>\n",
       "      <td>trump</td>\n",
       "    </tr>\n",
       "    <tr>\n",
       "      <td>1</td>\n",
       "      <td>#Trump: As a student I used to hear for years,...</td>\n",
       "      <td>snarke</td>\n",
       "      <td>Will mock for food! Freelance writer, blogger,...</td>\n",
       "      <td>2.0</td>\n",
       "      <td>1.0</td>\n",
       "      <td>OR</td>\n",
       "      <td>trump</td>\n",
       "    </tr>\n",
       "    <tr>\n",
       "      <td>2</td>\n",
       "      <td>You get a tie! And you get a tie! #Trump â€˜s ...</td>\n",
       "      <td>Ranaabtar</td>\n",
       "      <td>Washington Correspondent, Lebanese-American ,c...</td>\n",
       "      <td>4.0</td>\n",
       "      <td>3.0</td>\n",
       "      <td>DC</td>\n",
       "      <td>trump</td>\n",
       "    </tr>\n",
       "    <tr>\n",
       "      <td>3</td>\n",
       "      <td>@CLady62 Her 15 minutes were over long time ag...</td>\n",
       "      <td>FarrisFlagg</td>\n",
       "      <td>#BidenHarris2020 #JoeBiden2020 #KamalaHarrisFo...</td>\n",
       "      <td>2.0</td>\n",
       "      <td>0.0</td>\n",
       "      <td>CA</td>\n",
       "      <td>trump</td>\n",
       "    </tr>\n",
       "    <tr>\n",
       "      <td>4</td>\n",
       "      <td>@DeeviousDenise @realDonaldTrump @nypost There...</td>\n",
       "      <td>sm_gulledge</td>\n",
       "      <td>Patriot, Wife, â€œShaken not Stirredâ€� Mom of...</td>\n",
       "      <td>0.0</td>\n",
       "      <td>0.0</td>\n",
       "      <td>OH</td>\n",
       "      <td>trump</td>\n",
       "    </tr>\n",
       "    <tr>\n",
       "      <td>5</td>\n",
       "      <td>One of the single most effective remedies to e...</td>\n",
       "      <td>jamieo33</td>\n",
       "      <td>Don't know what I am. Can lean left and right,...</td>\n",
       "      <td>0.0</td>\n",
       "      <td>0.0</td>\n",
       "      <td>PA</td>\n",
       "      <td>trump</td>\n",
       "    </tr>\n",
       "    <tr>\n",
       "      <td>6</td>\n",
       "      <td>In 2020, #NYPost is being #censorship #CENSORE...</td>\n",
       "      <td>changeillinois</td>\n",
       "      <td>Illinois, home of Lincoln and Reagan, used to ...</td>\n",
       "      <td>0.0</td>\n",
       "      <td>0.0</td>\n",
       "      <td>IL</td>\n",
       "      <td>trump</td>\n",
       "    </tr>\n",
       "    <tr>\n",
       "      <td>7</td>\n",
       "      <td>#Trump #PresidentTrump #Trump2020LandslideVict...</td>\n",
       "      <td>Anchorman_USA</td>\n",
       "      <td>I'm kind of a Big Deal, People know me! I driv...</td>\n",
       "      <td>3.0</td>\n",
       "      <td>5.0</td>\n",
       "      <td>CA</td>\n",
       "      <td>trump</td>\n",
       "    </tr>\n",
       "    <tr>\n",
       "      <td>8</td>\n",
       "      <td>@cnnbrk #Trump owes #RicardoAguirre $730,000 t...</td>\n",
       "      <td>MoClarker</td>\n",
       "      <td>Media Maven/Scientist/Fan O Fauci</td>\n",
       "      <td>3.0</td>\n",
       "      <td>2.0</td>\n",
       "      <td>MI</td>\n",
       "      <td>trump</td>\n",
       "    </tr>\n",
       "    <tr>\n",
       "      <td>9</td>\n",
       "      <td>#Trump: Nobody likes to tell you this, but som...</td>\n",
       "      <td>snarke</td>\n",
       "      <td>Will mock for food! Freelance writer, blogger,...</td>\n",
       "      <td>1.0</td>\n",
       "      <td>1.0</td>\n",
       "      <td>OR</td>\n",
       "      <td>trump</td>\n",
       "    </tr>\n",
       "  </tbody>\n",
       "</table>\n",
       "</div>"
      ],
      "text/plain": [
       "                                               tweet user_screen_name  \\\n",
       "0  #Elecciones2020 | En #Florida: #JoeBiden dice ...  elsollatinonews   \n",
       "1  #Trump: As a student I used to hear for years,...           snarke   \n",
       "2  You get a tie! And you get a tie! #Trump â€˜s ...        Ranaabtar   \n",
       "3  @CLady62 Her 15 minutes were over long time ag...      FarrisFlagg   \n",
       "4  @DeeviousDenise @realDonaldTrump @nypost There...      sm_gulledge   \n",
       "5  One of the single most effective remedies to e...         jamieo33   \n",
       "6  In 2020, #NYPost is being #censorship #CENSORE...   changeillinois   \n",
       "7  #Trump #PresidentTrump #Trump2020LandslideVict...    Anchorman_USA   \n",
       "8  @cnnbrk #Trump owes #RicardoAguirre $730,000 t...        MoClarker   \n",
       "9  #Trump: Nobody likes to tell you this, but som...           snarke   \n",
       "\n",
       "                                    user_description likes  retweet_count  \\\n",
       "0  ðŸŒ� Noticias de interÃ©s para latinos de la c...   0.0            0.0   \n",
       "1  Will mock for food! Freelance writer, blogger,...   2.0            1.0   \n",
       "2  Washington Correspondent, Lebanese-American ,c...   4.0            3.0   \n",
       "3  #BidenHarris2020 #JoeBiden2020 #KamalaHarrisFo...   2.0            0.0   \n",
       "4  Patriot, Wife, â€œShaken not Stirredâ€� Mom of...   0.0            0.0   \n",
       "5  Don't know what I am. Can lean left and right,...   0.0            0.0   \n",
       "6  Illinois, home of Lincoln and Reagan, used to ...   0.0            0.0   \n",
       "7  I'm kind of a Big Deal, People know me! I driv...   3.0            5.0   \n",
       "8                  Media Maven/Scientist/Fan O Fauci   3.0            2.0   \n",
       "9  Will mock for food! Freelance writer, blogger,...   1.0            1.0   \n",
       "\n",
       "  state_code hashtag  \n",
       "0         FL   trump  \n",
       "1         OR   trump  \n",
       "2         DC   trump  \n",
       "3         CA   trump  \n",
       "4         OH   trump  \n",
       "5         PA   trump  \n",
       "6         IL   trump  \n",
       "7         CA   trump  \n",
       "8         MI   trump  \n",
       "9         OR   trump  "
      ]
     },
     "execution_count": 6,
     "metadata": {},
     "output_type": "execute_result"
    }
   ],
   "source": [
    "trump_df['hashtag'] = 'trump'\n",
    "biden_df['hashtag'] = 'biden'\n",
    "full_df = pd.concat([trump_df, biden_df], ignore_index=True)\n",
    "full_df = full_df[['tweet', 'user_screen_name', 'user_description', 'likes', 'retweet_count', 'state_code', 'hashtag']]\n",
    "full_df.head(10)"
   ]
  },
  {
   "cell_type": "code",
   "execution_count": 7,
   "metadata": {},
   "outputs": [],
   "source": [
    "def remove_mentions(df):\n",
    "    \n",
    "    pattern = r\"@[\\w]*\"\n",
    "    tweets = df['tweet']\n",
    "    \n",
    "    clean_tweets = []\n",
    "    for tweet in tweets:\n",
    "        r = re.findall(pattern, tweet)\n",
    "        for i in r:\n",
    "            tweet = re.sub(i, '', tweet)\n",
    "        clean_tweets.append(tweet)\n",
    "            \n",
    "    return clean_tweets"
   ]
  },
  {
   "cell_type": "code",
   "execution_count": 8,
   "metadata": {},
   "outputs": [
    {
     "data": {
      "text/html": [
       "<div>\n",
       "<style scoped>\n",
       "    .dataframe tbody tr th:only-of-type {\n",
       "        vertical-align: middle;\n",
       "    }\n",
       "\n",
       "    .dataframe tbody tr th {\n",
       "        vertical-align: top;\n",
       "    }\n",
       "\n",
       "    .dataframe thead th {\n",
       "        text-align: right;\n",
       "    }\n",
       "</style>\n",
       "<table border=\"1\" class=\"dataframe\">\n",
       "  <thead>\n",
       "    <tr style=\"text-align: right;\">\n",
       "      <th></th>\n",
       "      <th>tweet</th>\n",
       "      <th>user_screen_name</th>\n",
       "      <th>user_description</th>\n",
       "      <th>likes</th>\n",
       "      <th>retweet_count</th>\n",
       "      <th>state_code</th>\n",
       "      <th>hashtag</th>\n",
       "    </tr>\n",
       "  </thead>\n",
       "  <tbody>\n",
       "    <tr>\n",
       "      <td>0</td>\n",
       "      <td>#Elecciones       En #Florida  #JoeBiden dice ...</td>\n",
       "      <td>elsollatinonews</td>\n",
       "      <td>ðŸŒ� Noticias de interÃ©s para latinos de la c...</td>\n",
       "      <td>0.0</td>\n",
       "      <td>0.0</td>\n",
       "      <td>FL</td>\n",
       "      <td>trump</td>\n",
       "    </tr>\n",
       "    <tr>\n",
       "      <td>1</td>\n",
       "      <td>#Trump  As a student I used to hear for years ...</td>\n",
       "      <td>snarke</td>\n",
       "      <td>Will mock for food! Freelance writer, blogger,...</td>\n",
       "      <td>2.0</td>\n",
       "      <td>1.0</td>\n",
       "      <td>OR</td>\n",
       "      <td>trump</td>\n",
       "    </tr>\n",
       "    <tr>\n",
       "      <td>2</td>\n",
       "      <td>You get a tie  And you get a tie  #Trump    s ...</td>\n",
       "      <td>Ranaabtar</td>\n",
       "      <td>Washington Correspondent, Lebanese-American ,c...</td>\n",
       "      <td>4.0</td>\n",
       "      <td>3.0</td>\n",
       "      <td>DC</td>\n",
       "      <td>trump</td>\n",
       "    </tr>\n",
       "    <tr>\n",
       "      <td>3</td>\n",
       "      <td>Her    minutes were over long time ago  Omaro...</td>\n",
       "      <td>FarrisFlagg</td>\n",
       "      <td>#BidenHarris2020 #JoeBiden2020 #KamalaHarrisFo...</td>\n",
       "      <td>2.0</td>\n",
       "      <td>0.0</td>\n",
       "      <td>CA</td>\n",
       "      <td>trump</td>\n",
       "    </tr>\n",
       "    <tr>\n",
       "      <td>4</td>\n",
       "      <td>There won   t be many of them   Unless you ...</td>\n",
       "      <td>sm_gulledge</td>\n",
       "      <td>Patriot, Wife, â€œShaken not Stirredâ€� Mom of...</td>\n",
       "      <td>0.0</td>\n",
       "      <td>0.0</td>\n",
       "      <td>OH</td>\n",
       "      <td>trump</td>\n",
       "    </tr>\n",
       "  </tbody>\n",
       "</table>\n",
       "</div>"
      ],
      "text/plain": [
       "                                               tweet user_screen_name  \\\n",
       "0  #Elecciones       En #Florida  #JoeBiden dice ...  elsollatinonews   \n",
       "1  #Trump  As a student I used to hear for years ...           snarke   \n",
       "2  You get a tie  And you get a tie  #Trump    s ...        Ranaabtar   \n",
       "3   Her    minutes were over long time ago  Omaro...      FarrisFlagg   \n",
       "4     There won   t be many of them   Unless you ...      sm_gulledge   \n",
       "\n",
       "                                    user_description likes  retweet_count  \\\n",
       "0  ðŸŒ� Noticias de interÃ©s para latinos de la c...   0.0            0.0   \n",
       "1  Will mock for food! Freelance writer, blogger,...   2.0            1.0   \n",
       "2  Washington Correspondent, Lebanese-American ,c...   4.0            3.0   \n",
       "3  #BidenHarris2020 #JoeBiden2020 #KamalaHarrisFo...   2.0            0.0   \n",
       "4  Patriot, Wife, â€œShaken not Stirredâ€� Mom of...   0.0            0.0   \n",
       "\n",
       "  state_code hashtag  \n",
       "0         FL   trump  \n",
       "1         OR   trump  \n",
       "2         DC   trump  \n",
       "3         CA   trump  \n",
       "4         OH   trump  "
      ]
     },
     "execution_count": 8,
     "metadata": {},
     "output_type": "execute_result"
    }
   ],
   "source": [
    "full_df['tweet'] = remove_mentions(full_df)\n",
    "full_df['tweet'] = full_df['tweet'].str.replace(\"[^a-zA-Z#]\", \" \")\n",
    "\n",
    "full_df.head()\n",
    "#finished removing punctuations and mentions"
   ]
  },
  {
   "cell_type": "code",
   "execution_count": 9,
   "metadata": {},
   "outputs": [
    {
     "data": {
      "text/html": [
       "<div>\n",
       "<style scoped>\n",
       "    .dataframe tbody tr th:only-of-type {\n",
       "        vertical-align: middle;\n",
       "    }\n",
       "\n",
       "    .dataframe tbody tr th {\n",
       "        vertical-align: top;\n",
       "    }\n",
       "\n",
       "    .dataframe thead th {\n",
       "        text-align: right;\n",
       "    }\n",
       "</style>\n",
       "<table border=\"1\" class=\"dataframe\">\n",
       "  <thead>\n",
       "    <tr style=\"text-align: right;\">\n",
       "      <th></th>\n",
       "      <th>tweet</th>\n",
       "      <th>user_screen_name</th>\n",
       "      <th>user_description</th>\n",
       "      <th>likes</th>\n",
       "      <th>retweet_count</th>\n",
       "      <th>state_code</th>\n",
       "      <th>hashtag</th>\n",
       "    </tr>\n",
       "  </thead>\n",
       "  <tbody>\n",
       "    <tr>\n",
       "      <td>0</td>\n",
       "      <td>#Elecciones #Florida #JoeBiden dice #DonaldTru...</td>\n",
       "      <td>elsollatinonews</td>\n",
       "      <td>ðŸŒ� Noticias de interÃ©s para latinos de la c...</td>\n",
       "      <td>0.0</td>\n",
       "      <td>0.0</td>\n",
       "      <td>FL</td>\n",
       "      <td>trump</td>\n",
       "    </tr>\n",
       "    <tr>\n",
       "      <td>1</td>\n",
       "      <td>#Trump student used hear years years heard Chi...</td>\n",
       "      <td>snarke</td>\n",
       "      <td>Will mock for food! Freelance writer, blogger,...</td>\n",
       "      <td>2.0</td>\n",
       "      <td>1.0</td>\n",
       "      <td>OR</td>\n",
       "      <td>trump</td>\n",
       "    </tr>\n",
       "    <tr>\n",
       "      <td>2</td>\n",
       "      <td>#Trump rally #Iowa https jJalUUmh</td>\n",
       "      <td>Ranaabtar</td>\n",
       "      <td>Washington Correspondent, Lebanese-American ,c...</td>\n",
       "      <td>4.0</td>\n",
       "      <td>3.0</td>\n",
       "      <td>DC</td>\n",
       "      <td>trump</td>\n",
       "    </tr>\n",
       "    <tr>\n",
       "      <td>3</td>\n",
       "      <td>minutes were over long time Omarosa never repr...</td>\n",
       "      <td>FarrisFlagg</td>\n",
       "      <td>#BidenHarris2020 #JoeBiden2020 #KamalaHarrisFo...</td>\n",
       "      <td>2.0</td>\n",
       "      <td>0.0</td>\n",
       "      <td>CA</td>\n",
       "      <td>trump</td>\n",
       "    </tr>\n",
       "    <tr>\n",
       "      <td>4</td>\n",
       "      <td>There many them Unless have been voting more t...</td>\n",
       "      <td>sm_gulledge</td>\n",
       "      <td>Patriot, Wife, â€œShaken not Stirredâ€� Mom of...</td>\n",
       "      <td>0.0</td>\n",
       "      <td>0.0</td>\n",
       "      <td>OH</td>\n",
       "      <td>trump</td>\n",
       "    </tr>\n",
       "  </tbody>\n",
       "</table>\n",
       "</div>"
      ],
      "text/plain": [
       "                                               tweet user_screen_name  \\\n",
       "0  #Elecciones #Florida #JoeBiden dice #DonaldTru...  elsollatinonews   \n",
       "1  #Trump student used hear years years heard Chi...           snarke   \n",
       "2                  #Trump rally #Iowa https jJalUUmh        Ranaabtar   \n",
       "3  minutes were over long time Omarosa never repr...      FarrisFlagg   \n",
       "4  There many them Unless have been voting more t...      sm_gulledge   \n",
       "\n",
       "                                    user_description likes  retweet_count  \\\n",
       "0  ðŸŒ� Noticias de interÃ©s para latinos de la c...   0.0            0.0   \n",
       "1  Will mock for food! Freelance writer, blogger,...   2.0            1.0   \n",
       "2  Washington Correspondent, Lebanese-American ,c...   4.0            3.0   \n",
       "3  #BidenHarris2020 #JoeBiden2020 #KamalaHarrisFo...   2.0            0.0   \n",
       "4  Patriot, Wife, â€œShaken not Stirredâ€� Mom of...   0.0            0.0   \n",
       "\n",
       "  state_code hashtag  \n",
       "0         FL   trump  \n",
       "1         OR   trump  \n",
       "2         DC   trump  \n",
       "3         CA   trump  \n",
       "4         OH   trump  "
      ]
     },
     "execution_count": 9,
     "metadata": {},
     "output_type": "execute_result"
    }
   ],
   "source": [
    "full_df['tweet'] = full_df['tweet'].apply(lambda x: ' '.join([w for w in x.split() if len(w) > 3]))\n",
    "full_df.head()\n",
    "#got rid of short words to reduce noise"
   ]
  },
  {
   "cell_type": "code",
   "execution_count": 14,
   "metadata": {},
   "outputs": [
    {
     "name": "stdout",
     "output_type": "stream",
     "text": [
      "0    [#Elecciones, #Florida, #JoeBiden, dice, #Dona...\n",
      "1    [#Trump, student, used, hear, years, years, he...\n",
      "2              [#Trump, rally, #Iowa, https, jJalUUmh]\n",
      "3    [minutes, were, over, long, time, Omarosa, nev...\n",
      "4    [There, many, them, Unless, have, been, voting...\n",
      "Name: tweet, dtype: object\n"
     ]
    }
   ],
   "source": [
    "tweet_tokens = full_df['tweet'].apply(lambda x: x.split())\n",
    "print(tweet_tokens[:5])"
   ]
  },
  {
   "cell_type": "code",
   "execution_count": 15,
   "metadata": {},
   "outputs": [
    {
     "data": {
      "text/plain": [
       "0    [#eleccion, #florida, #joebiden, dice, #donald...\n",
       "1    [#trump, student, use, hear, year, year, heard...\n",
       "2               [#trump, ralli, #iowa, http, jjaluumh]\n",
       "3    [minut, were, over, long, time, omarosa, never...\n",
       "4    [there, mani, them, unless, have, been, vote, ...\n",
       "Name: tweet, dtype: object"
      ]
     },
     "execution_count": 15,
     "metadata": {},
     "output_type": "execute_result"
    }
   ],
   "source": [
    "from nltk.stem.porter import *\n",
    "stemmer = PorterStemmer()\n",
    "tweet_tokens = tweet_tokens.apply(lambda x: [stemmer.stem(i) for i in x])\n",
    "tweet_tokens[:5]\n",
    "#normalizing tweets using porter stemmer"
   ]
  },
  {
   "cell_type": "code",
   "execution_count": 18,
   "metadata": {},
   "outputs": [
    {
     "data": {
      "text/plain": [
       "(72242602, 99509100)"
      ]
     },
     "execution_count": 18,
     "metadata": {},
     "output_type": "execute_result"
    }
   ],
   "source": [
    "full_model = gensim.models.Word2Vec(tweet_tokens, min_count=32, size=100, window=5, sg=1, workers=32, seed=0)\n",
    "full_model.train(tweet_tokens, total_examples=len(full_df['tweet']), epochs=30)"
   ]
  },
  {
   "cell_type": "code",
   "execution_count": 23,
   "metadata": {},
   "outputs": [
    {
     "name": "stderr",
     "output_type": "stream",
     "text": [
      "C:\\Users\\CK\\Anaconda3\\lib\\site-packages\\ipykernel_launcher.py:1: DeprecationWarning: Call to deprecated `most_similar` (Method will be removed in 4.0.0, use self.wv.most_similar() instead).\n",
      "  \"\"\"Entry point for launching an IPython kernel.\n"
     ]
    },
    {
     "data": {
      "text/plain": [
       "[('trump', 0.606967568397522),\n",
       " ('hunter', 0.5977370738983154),\n",
       " ('#biden', 0.5962669849395752),\n",
       " ('kamala', 0.5762556791305542),\n",
       " ('harri', 0.5639647245407104),\n",
       " ('#joebiden', 0.5451806783676147),\n",
       " ('hillari', 0.4962920844554901),\n",
       " ('seguir', 0.4650038778781891),\n",
       " ('email', 0.45872586965560913),\n",
       " ('clave', 0.456613153219223)]"
      ]
     },
     "execution_count": 23,
     "metadata": {},
     "output_type": "execute_result"
    }
   ],
   "source": [
    "full_model.most_similar(positive='biden')"
   ]
  },
  {
   "cell_type": "code",
   "execution_count": 19,
   "metadata": {},
   "outputs": [
    {
     "data": {
      "text/html": [
       "<div>\n",
       "<style scoped>\n",
       "    .dataframe tbody tr th:only-of-type {\n",
       "        vertical-align: middle;\n",
       "    }\n",
       "\n",
       "    .dataframe tbody tr th {\n",
       "        vertical-align: top;\n",
       "    }\n",
       "\n",
       "    .dataframe thead th {\n",
       "        text-align: right;\n",
       "    }\n",
       "</style>\n",
       "<table border=\"1\" class=\"dataframe\">\n",
       "  <thead>\n",
       "    <tr style=\"text-align: right;\">\n",
       "      <th></th>\n",
       "      <th>tweet</th>\n",
       "      <th>user_screen_name</th>\n",
       "      <th>user_description</th>\n",
       "      <th>likes</th>\n",
       "      <th>retweet_count</th>\n",
       "      <th>state_code</th>\n",
       "      <th>hashtag</th>\n",
       "    </tr>\n",
       "  </thead>\n",
       "  <tbody>\n",
       "    <tr>\n",
       "      <td>0</td>\n",
       "      <td>#eleccion #florida #joebiden dice #donaldtrump...</td>\n",
       "      <td>elsollatinonews</td>\n",
       "      <td>ðŸŒ� Noticias de interÃ©s para latinos de la c...</td>\n",
       "      <td>0.0</td>\n",
       "      <td>0.0</td>\n",
       "      <td>FL</td>\n",
       "      <td>trump</td>\n",
       "    </tr>\n",
       "    <tr>\n",
       "      <td>1</td>\n",
       "      <td>#trump student use hear year year heard china ...</td>\n",
       "      <td>snarke</td>\n",
       "      <td>Will mock for food! Freelance writer, blogger,...</td>\n",
       "      <td>2.0</td>\n",
       "      <td>1.0</td>\n",
       "      <td>OR</td>\n",
       "      <td>trump</td>\n",
       "    </tr>\n",
       "    <tr>\n",
       "      <td>2</td>\n",
       "      <td>#trump ralli #iowa http jjaluumh</td>\n",
       "      <td>Ranaabtar</td>\n",
       "      <td>Washington Correspondent, Lebanese-American ,c...</td>\n",
       "      <td>4.0</td>\n",
       "      <td>3.0</td>\n",
       "      <td>DC</td>\n",
       "      <td>trump</td>\n",
       "    </tr>\n",
       "    <tr>\n",
       "      <td>3</td>\n",
       "      <td>minut were over long time omarosa never repres...</td>\n",
       "      <td>FarrisFlagg</td>\n",
       "      <td>#BidenHarris2020 #JoeBiden2020 #KamalaHarrisFo...</td>\n",
       "      <td>2.0</td>\n",
       "      <td>0.0</td>\n",
       "      <td>CA</td>\n",
       "      <td>trump</td>\n",
       "    </tr>\n",
       "    <tr>\n",
       "      <td>4</td>\n",
       "      <td>there mani them unless have been vote more tha...</td>\n",
       "      <td>sm_gulledge</td>\n",
       "      <td>Patriot, Wife, â€œShaken not Stirredâ€� Mom of...</td>\n",
       "      <td>0.0</td>\n",
       "      <td>0.0</td>\n",
       "      <td>OH</td>\n",
       "      <td>trump</td>\n",
       "    </tr>\n",
       "  </tbody>\n",
       "</table>\n",
       "</div>"
      ],
      "text/plain": [
       "                                               tweet user_screen_name  \\\n",
       "0  #eleccion #florida #joebiden dice #donaldtrump...  elsollatinonews   \n",
       "1  #trump student use hear year year heard china ...           snarke   \n",
       "2                   #trump ralli #iowa http jjaluumh        Ranaabtar   \n",
       "3  minut were over long time omarosa never repres...      FarrisFlagg   \n",
       "4  there mani them unless have been vote more tha...      sm_gulledge   \n",
       "\n",
       "                                    user_description likes  retweet_count  \\\n",
       "0  ðŸŒ� Noticias de interÃ©s para latinos de la c...   0.0            0.0   \n",
       "1  Will mock for food! Freelance writer, blogger,...   2.0            1.0   \n",
       "2  Washington Correspondent, Lebanese-American ,c...   4.0            3.0   \n",
       "3  #BidenHarris2020 #JoeBiden2020 #KamalaHarrisFo...   2.0            0.0   \n",
       "4  Patriot, Wife, â€œShaken not Stirredâ€� Mom of...   0.0            0.0   \n",
       "\n",
       "  state_code hashtag  \n",
       "0         FL   trump  \n",
       "1         OR   trump  \n",
       "2         DC   trump  \n",
       "3         CA   trump  \n",
       "4         OH   trump  "
      ]
     },
     "execution_count": 19,
     "metadata": {},
     "output_type": "execute_result"
    }
   ],
   "source": [
    "for i in range(len(tweet_tokens)):\n",
    "    tweet_tokens[i] = ' '.join(tweet_tokens[i])\n",
    "full_df['tweet'] = tweet_tokens\n",
    "full_df.head()"
   ]
  },
  {
   "cell_type": "code",
   "execution_count": 26,
   "metadata": {},
   "outputs": [],
   "source": [
    "def add_label(twt):\n",
    "    output = []\n",
    "    for i, s in zip(twt.index, twt):\n",
    "        output.append(LabeledSentence(s, ['tweet_', str(i)]))\n",
    "    return output"
   ]
  },
  {
   "cell_type": "code",
   "execution_count": 28,
   "metadata": {},
   "outputs": [
    {
     "name": "stderr",
     "output_type": "stream",
     "text": [
      "C:\\Users\\CK\\Anaconda3\\lib\\site-packages\\ipykernel_launcher.py:4: DeprecationWarning: Call to deprecated `LabeledSentence` (Class will be removed in 4.0.0, use TaggedDocument instead).\n",
      "  after removing the cwd from sys.path.\n"
     ]
    },
    {
     "data": {
      "text/plain": [
       "[LabeledSentence(words='#eleccion #florida #joebiden dice #donaldtrump solo preocupa mismo crata anfitri encuentro elector #pembrokepin #miramar clic http qhiwpiuxst #elsollatino #yobrilloconelsol http flcbwf', tags=['tweet_', '0']),\n",
       " LabeledSentence(words='#trump student use hear year year heard china have they know mani have ask them mani have they said know have million like million what', tags=['tweet_', '1']),\n",
       " LabeledSentence(words='#trump ralli #iowa http jjaluumh', tags=['tweet_', '2']),\n",
       " LabeledSentence(words='minut were over long time omarosa never repres black commun #thereidout cri #trump beg', tags=['tweet_', '3']),\n",
       " LabeledSentence(words='there mani them unless have been vote more than onc again prevail most corrupt presid ever dark light your lie come through they wouldn last forev #trump', tags=['tweet_', '4'])]"
      ]
     },
     "execution_count": 28,
     "metadata": {},
     "output_type": "execute_result"
    }
   ],
   "source": [
    "labeled_tweets = add_label(tweet_tokens)\n",
    "labeled_tweets[:5]"
   ]
  },
  {
   "cell_type": "code",
   "execution_count": 30,
   "metadata": {},
   "outputs": [
    {
     "name": "stderr",
     "output_type": "stream",
     "text": [
      "100%|█████████████████████████████████████████████████████████████████████| 205689/205689 [00:00<00:00, 3601879.57it/s]\n"
     ]
    }
   ],
   "source": [
    "full_doc_model = gensim.models.Doc2Vec(dm = 1, dm_mean=1, vector_size=100, window=5, min_count=5, workers=32, alpha=0.1, seed=0)\n",
    "full_doc_model.build_vocab([i for i in tqdm(labeled_tweets)])\n",
    "full_doc_model.train(labeled_tweets, total_examples=len(full_df['tweet']), epochs=20)"
   ]
  },
  {
   "cell_type": "code",
   "execution_count": 31,
   "metadata": {},
   "outputs": [
    {
     "data": {
      "text/plain": [
       "(205689, 100)"
      ]
     },
     "execution_count": 31,
     "metadata": {},
     "output_type": "execute_result"
    }
   ],
   "source": [
    "docvec_arrays = np.zeros((len(tweet_tokens), 100))\n",
    "for i in range(len(full_df)):\n",
    "    docvec_arrays[i,:] = full_doc_model.docvecs[i].reshape((1, 100))\n",
    "    \n",
    "docvec_df = pd.DataFrame(docvec_arrays)\n",
    "docvec_df.shape"
   ]
  },
  {
   "cell_type": "code",
   "execution_count": null,
   "metadata": {},
   "outputs": [],
   "source": []
  }
 ],
 "metadata": {
  "kernelspec": {
   "display_name": "Python 3",
   "language": "python",
   "name": "python3"
  },
  "language_info": {
   "codemirror_mode": {
    "name": "ipython",
    "version": 3
   },
   "file_extension": ".py",
   "mimetype": "text/x-python",
   "name": "python",
   "nbconvert_exporter": "python",
   "pygments_lexer": "ipython3",
   "version": "3.7.4"
  }
 },
 "nbformat": 4,
 "nbformat_minor": 2
}

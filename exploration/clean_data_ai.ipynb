{
 "cells": [
  {
   "cell_type": "code",
   "execution_count": 1,
   "metadata": {},
   "outputs": [],
   "source": [
    "import pandas as pd\n",
    "import numpy as np"
   ]
  },
  {
   "cell_type": "code",
   "execution_count": 2,
   "metadata": {},
   "outputs": [],
   "source": [
    "biden_df = pd.read_csv('hashtag_joebiden.csv', lineterminator='\\n')\n",
    "trump_df = pd.read_csv('hashtag_donaldtrump.csv', lineterminator='\\n')"
   ]
  },
  {
   "cell_type": "code",
   "execution_count": 3,
   "metadata": {},
   "outputs": [],
   "source": [
    "#converted tweet_created into a datetime object\n",
    "import datetime\n",
    "def clean_date(df):\n",
    "    datetime_obj = []\n",
    "    for elem in df['created_at']:\n",
    "        obj = datetime.datetime.strptime(elem, '%Y-%m-%d %H:%M:%S').date()\n",
    "        datetime_obj.append(obj)\n",
    "    df['datetime'] = datetime_obj\n",
    "clean_date(biden_df)   \n",
    "clean_date(trump_df)  \n",
    "\n",
    "#Only keep tweets on or before election day; select rows that were before November 3 inclusive\n",
    "biden_df = biden_df[biden_df['datetime'] <= datetime.date(2020, 11, 3)]\n",
    "trump_df = trump_df[trump_df['datetime'] <= datetime.date(2020, 11, 3)]"
   ]
  },
  {
   "cell_type": "code",
   "execution_count": 4,
   "metadata": {},
   "outputs": [],
   "source": [
    "#Only keep US states, removing any Non-US tweets and US territories. \n",
    "biden_df = biden_df[biden_df['country']=='United States of America']\n",
    "biden_df = biden_df[(biden_df['state'] != 'Guam') & (biden_df['state'] != 'Puerto Rico')]\n",
    "\n",
    "trump_df = trump_df[trump_df['country']=='United States of America']\n",
    "trump_df = trump_df[(trump_df['state'] != 'Guam') & (trump_df['state'] != 'Puerto Rico')]"
   ]
  },
  {
   "cell_type": "code",
   "execution_count": 5,
   "metadata": {},
   "outputs": [
    {
     "name": "stdout",
     "output_type": "stream",
     "text": [
      "Requirement already satisfied: vaderSentiment in /Users/aisetoyama/opt/anaconda3/lib/python3.7/site-packages (3.3.2)\n",
      "Requirement already satisfied: requests in /Users/aisetoyama/opt/anaconda3/lib/python3.7/site-packages (from vaderSentiment) (2.22.0)\n",
      "Requirement already satisfied: urllib3!=1.25.0,!=1.25.1,<1.26,>=1.21.1 in /Users/aisetoyama/opt/anaconda3/lib/python3.7/site-packages (from requests->vaderSentiment) (1.25.8)\n",
      "Requirement already satisfied: certifi>=2017.4.17 in /Users/aisetoyama/opt/anaconda3/lib/python3.7/site-packages (from requests->vaderSentiment) (2019.11.28)\n",
      "Requirement already satisfied: chardet<3.1.0,>=3.0.2 in /Users/aisetoyama/opt/anaconda3/lib/python3.7/site-packages (from requests->vaderSentiment) (3.0.4)\n",
      "Requirement already satisfied: idna<2.9,>=2.5 in /Users/aisetoyama/opt/anaconda3/lib/python3.7/site-packages (from requests->vaderSentiment) (2.8)\n"
     ]
    }
   ],
   "source": [
    "#install VADER\n",
    "!pip install vaderSentiment"
   ]
  },
  {
   "cell_type": "code",
   "execution_count": 6,
   "metadata": {},
   "outputs": [],
   "source": [
    "# VADER sentimenal analysis\n",
    "# We used the 'compound' score, from the polarity_score of the \n",
    "# SentimentIntensityAnalyzer(). \n",
    "# This compound score is computed by summing the valence scores \n",
    "# of each word in the lexicon, adjusted according to the rules, \n",
    "# and then normalized to be between -1 (most extreme negative) \n",
    "# and +1 (most extreme positive)\n",
    "\n",
    "from vaderSentiment.vaderSentiment import SentimentIntensityAnalyzer\n",
    "def vader_polarity(tweets):\n",
    "    analyser = SentimentIntensityAnalyzer()\n",
    "    polarity = []\n",
    "    for tweet in tweets:\n",
    "        polarity.append(analyser.polarity_scores(tweet)['compound'])\n",
    "    return polarity "
   ]
  },
  {
   "cell_type": "code",
   "execution_count": 7,
   "metadata": {},
   "outputs": [],
   "source": [
    "# Add VADER polarity score to each tweet\n",
    "biden_df['vader_polarity'] = vader_polarity(biden_df['tweet'])\n",
    "trump_df['vader_polarity'] = vader_polarity(trump_df['tweet'])"
   ]
  },
  {
   "cell_type": "code",
   "execution_count": 8,
   "metadata": {},
   "outputs": [
    {
     "name": "stdout",
     "output_type": "stream",
     "text": [
      "Requirement already up-to-date: textblob in /Users/aisetoyama/opt/anaconda3/lib/python3.7/site-packages (0.15.3)\n",
      "Requirement already satisfied, skipping upgrade: nltk>=3.1 in /Users/aisetoyama/opt/anaconda3/lib/python3.7/site-packages (from textblob) (3.4.5)\n",
      "Requirement already satisfied, skipping upgrade: six in /Users/aisetoyama/opt/anaconda3/lib/python3.7/site-packages (from nltk>=3.1->textblob) (1.14.0)\n"
     ]
    }
   ],
   "source": [
    "# install TextBlob\n",
    "!pip install -U textblob"
   ]
  },
  {
   "cell_type": "code",
   "execution_count": 9,
   "metadata": {},
   "outputs": [],
   "source": [
    "# The sentiment property returns a namedtuple of the form Sentiment(polarity, subjectivity). \n",
    "# The polarity score is a float within the range [-1.0, 1.0]. \n",
    "# The subjectivity is a float within the range [0.0, 1.0] where 0.0 is very objective and 1.0 is very subjective.\n",
    "\n",
    "from textblob import TextBlob\n",
    "def textblob_polarity(tweets): \n",
    "    polarity = []\n",
    "    for tweet in tweets:\n",
    "        testimonial = TextBlob(tweet)\n",
    "        polarity.append(testimonial.sentiment.polarity)\n",
    "    return polarity"
   ]
  },
  {
   "cell_type": "code",
   "execution_count": 10,
   "metadata": {},
   "outputs": [],
   "source": [
    "# Add TextBlob polarity score to each tweet\n",
    "biden_df['textblob_polarity'] = textblob_polarity(biden_df['tweet'])\n",
    "trump_df['textblob_polarity'] = textblob_polarity(trump_df['tweet'])"
   ]
  },
  {
   "cell_type": "code",
   "execution_count": 11,
   "metadata": {},
   "outputs": [
    {
     "name": "stdout",
     "output_type": "stream",
     "text": [
      "Biden VADER score, min: -0.995 , max:  0.9996\n",
      "trump VADER score, min: -0.9987 , max:  0.9999\n",
      "Biden textblob score, min: -1.0 , max:  1.0\n",
      "trump textblob score, min: -1.0 , max:  1.0\n"
     ]
    }
   ],
   "source": [
    "#check polarity ranges\n",
    "\n",
    "print(\"Biden VADER score, min:\", min(biden_df['vader_polarity']), \", max: \", max(biden_df['vader_polarity']))\n",
    "print(\"trump VADER score, min:\", min(trump_df['vader_polarity']), \", max: \", max(trump_df['vader_polarity']))\n",
    "\n",
    "print(\"Biden textblob score, min:\", min(biden_df['textblob_polarity']), \", max: \", max(biden_df['textblob_polarity']))\n",
    "print(\"trump textblob score, min:\", min(trump_df['textblob_polarity']), \", max: \", max(trump_df['textblob_polarity']))\n",
    "\n"
   ]
  },
  {
   "cell_type": "code",
   "execution_count": 12,
   "metadata": {},
   "outputs": [],
   "source": [
    "#average the two polarity scores: VADER and textblob\n",
    "biden_df['avg_polarity'] = biden_df[['vader_polarity', 'textblob_polarity']].mean(axis=1)\n",
    "trump_df['avg_polarity'] = trump_df[['vader_polarity', 'textblob_polarity']].mean(axis=1)\n"
   ]
  },
  {
   "cell_type": "code",
   "execution_count": 13,
   "metadata": {
    "scrolled": true
   },
   "outputs": [
    {
     "name": "stdout",
     "output_type": "stream",
     "text": [
      "#joebiden tweet count:  96528\n",
      "Polarity score 0 count:  25294\n"
     ]
    }
   ],
   "source": [
    "print('#joebiden tweet count: ', len(biden_df))\n",
    "print('Polarity score 0 count: ', len(biden_df[biden_df['avg_polarity']==0]))"
   ]
  },
  {
   "cell_type": "code",
   "execution_count": 14,
   "metadata": {},
   "outputs": [
    {
     "name": "stdout",
     "output_type": "stream",
     "text": [
      "#donaltrump tweet count:  125783\n",
      "Polarity score 0 count:  25833\n"
     ]
    }
   ],
   "source": [
    "print('#donaltrump tweet count: ', len(trump_df))\n",
    "print('Polarity score 0 count: ', len(trump_df[trump_df['avg_polarity']==0]))"
   ]
  },
  {
   "cell_type": "code",
   "execution_count": 15,
   "metadata": {},
   "outputs": [],
   "source": [
    "# Only keep the following features: \n",
    "# user_id\n",
    "# tweet\n",
    "# state\n",
    "# likes\n",
    "# retweet_count\n",
    "# avg_polarity\n",
    "\n",
    "clean_biden_df = biden_df[['user_id','tweet', 'state', 'likes', 'retweet_count', 'avg_polarity']]\n",
    "clean_trump_df = trump_df[['user_id','tweet', 'state', 'likes', 'retweet_count', 'avg_polarity']]\n"
   ]
  },
  {
   "cell_type": "code",
   "execution_count": 16,
   "metadata": {},
   "outputs": [
    {
     "data": {
      "text/plain": [
       "(96528, 6)"
      ]
     },
     "execution_count": 16,
     "metadata": {},
     "output_type": "execute_result"
    }
   ],
   "source": [
    "clean_biden_df.shape"
   ]
  },
  {
   "cell_type": "code",
   "execution_count": 17,
   "metadata": {},
   "outputs": [
    {
     "data": {
      "text/html": [
       "<div>\n",
       "<style scoped>\n",
       "    .dataframe tbody tr th:only-of-type {\n",
       "        vertical-align: middle;\n",
       "    }\n",
       "\n",
       "    .dataframe tbody tr th {\n",
       "        vertical-align: top;\n",
       "    }\n",
       "\n",
       "    .dataframe thead th {\n",
       "        text-align: right;\n",
       "    }\n",
       "</style>\n",
       "<table border=\"1\" class=\"dataframe\">\n",
       "  <thead>\n",
       "    <tr style=\"text-align: right;\">\n",
       "      <th></th>\n",
       "      <th>user_id</th>\n",
       "      <th>tweet</th>\n",
       "      <th>state</th>\n",
       "      <th>likes</th>\n",
       "      <th>retweet_count</th>\n",
       "      <th>avg_polarity</th>\n",
       "    </tr>\n",
       "  </thead>\n",
       "  <tbody>\n",
       "    <tr>\n",
       "      <th>0</th>\n",
       "      <td>3.606665e+08</td>\n",
       "      <td>#Elecciones2020 | En #Florida: #JoeBiden dice ...</td>\n",
       "      <td>Florida</td>\n",
       "      <td>0.0</td>\n",
       "      <td>0.0</td>\n",
       "      <td>0.000000</td>\n",
       "    </tr>\n",
       "    <tr>\n",
       "      <th>2</th>\n",
       "      <td>3.494182e+09</td>\n",
       "      <td>@IslandGirlPRV @BradBeauregardJ @MeidasTouch T...</td>\n",
       "      <td>Montana</td>\n",
       "      <td>0.0</td>\n",
       "      <td>0.0</td>\n",
       "      <td>0.000000</td>\n",
       "    </tr>\n",
       "    <tr>\n",
       "      <th>4</th>\n",
       "      <td>1.032807e+18</td>\n",
       "      <td>#censorship #HunterBiden #Biden #BidenEmails #...</td>\n",
       "      <td>California</td>\n",
       "      <td>1.0</td>\n",
       "      <td>0.0</td>\n",
       "      <td>0.000000</td>\n",
       "    </tr>\n",
       "    <tr>\n",
       "      <th>6</th>\n",
       "      <td>1.994033e+07</td>\n",
       "      <td>In 2020, #NYPost is being #censorship #CENSORE...</td>\n",
       "      <td>Illinois</td>\n",
       "      <td>0.0</td>\n",
       "      <td>0.0</td>\n",
       "      <td>-0.339855</td>\n",
       "    </tr>\n",
       "    <tr>\n",
       "      <th>11</th>\n",
       "      <td>9.607387e+17</td>\n",
       "      <td>FBI Allegedly Obtained Hunter Biden Computer, ...</td>\n",
       "      <td>Kentucky</td>\n",
       "      <td>0.0</td>\n",
       "      <td>0.0</td>\n",
       "      <td>-0.050000</td>\n",
       "    </tr>\n",
       "    <tr>\n",
       "      <th>...</th>\n",
       "      <td>...</td>\n",
       "      <td>...</td>\n",
       "      <td>...</td>\n",
       "      <td>...</td>\n",
       "      <td>...</td>\n",
       "      <td>...</td>\n",
       "    </tr>\n",
       "    <tr>\n",
       "      <th>352651</th>\n",
       "      <td>1.237748e+18</td>\n",
       "      <td>Kamala Is My Sorority Sister Shirt\\nBuy Now: h...</td>\n",
       "      <td>New York</td>\n",
       "      <td>0.0</td>\n",
       "      <td>0.0</td>\n",
       "      <td>0.000000</td>\n",
       "    </tr>\n",
       "    <tr>\n",
       "      <th>352653</th>\n",
       "      <td>9.965851e+17</td>\n",
       "      <td>#VoteBlueToEndTheNightmare \\n#BidenHarrisToSav...</td>\n",
       "      <td>Arizona</td>\n",
       "      <td>0.0</td>\n",
       "      <td>0.0</td>\n",
       "      <td>0.000000</td>\n",
       "    </tr>\n",
       "    <tr>\n",
       "      <th>352662</th>\n",
       "      <td>1.208948e+09</td>\n",
       "      <td>God bless #JoeBiden who is fighting the good f...</td>\n",
       "      <td>Massachusetts</td>\n",
       "      <td>0.0</td>\n",
       "      <td>0.0</td>\n",
       "      <td>0.425950</td>\n",
       "    </tr>\n",
       "    <tr>\n",
       "      <th>352663</th>\n",
       "      <td>4.053900e+09</td>\n",
       "      <td>Here. We. Go. #ElectionNight \\n\\n🔴 #Trump 0\\n🔵...</td>\n",
       "      <td>Minnesota</td>\n",
       "      <td>0.0</td>\n",
       "      <td>0.0</td>\n",
       "      <td>0.000000</td>\n",
       "    </tr>\n",
       "    <tr>\n",
       "      <th>352667</th>\n",
       "      <td>3.127945e+08</td>\n",
       "      <td>@JoeBiden Democrats with superiority complexes...</td>\n",
       "      <td>California</td>\n",
       "      <td>0.0</td>\n",
       "      <td>0.0</td>\n",
       "      <td>0.000000</td>\n",
       "    </tr>\n",
       "  </tbody>\n",
       "</table>\n",
       "<p>96528 rows × 6 columns</p>\n",
       "</div>"
      ],
      "text/plain": [
       "             user_id                                              tweet  \\\n",
       "0       3.606665e+08  #Elecciones2020 | En #Florida: #JoeBiden dice ...   \n",
       "2       3.494182e+09  @IslandGirlPRV @BradBeauregardJ @MeidasTouch T...   \n",
       "4       1.032807e+18  #censorship #HunterBiden #Biden #BidenEmails #...   \n",
       "6       1.994033e+07  In 2020, #NYPost is being #censorship #CENSORE...   \n",
       "11      9.607387e+17  FBI Allegedly Obtained Hunter Biden Computer, ...   \n",
       "...              ...                                                ...   \n",
       "352651  1.237748e+18  Kamala Is My Sorority Sister Shirt\\nBuy Now: h...   \n",
       "352653  9.965851e+17  #VoteBlueToEndTheNightmare \\n#BidenHarrisToSav...   \n",
       "352662  1.208948e+09  God bless #JoeBiden who is fighting the good f...   \n",
       "352663  4.053900e+09  Here. We. Go. #ElectionNight \\n\\n🔴 #Trump 0\\n🔵...   \n",
       "352667  3.127945e+08  @JoeBiden Democrats with superiority complexes...   \n",
       "\n",
       "                state  likes  retweet_count  avg_polarity  \n",
       "0             Florida    0.0            0.0      0.000000  \n",
       "2             Montana    0.0            0.0      0.000000  \n",
       "4          California    1.0            0.0      0.000000  \n",
       "6            Illinois    0.0            0.0     -0.339855  \n",
       "11           Kentucky    0.0            0.0     -0.050000  \n",
       "...               ...    ...            ...           ...  \n",
       "352651       New York    0.0            0.0      0.000000  \n",
       "352653        Arizona    0.0            0.0      0.000000  \n",
       "352662  Massachusetts    0.0            0.0      0.425950  \n",
       "352663      Minnesota    0.0            0.0      0.000000  \n",
       "352667     California    0.0            0.0      0.000000  \n",
       "\n",
       "[96528 rows x 6 columns]"
      ]
     },
     "execution_count": 17,
     "metadata": {},
     "output_type": "execute_result"
    }
   ],
   "source": [
    "clean_biden_df"
   ]
  },
  {
   "cell_type": "code",
   "execution_count": 18,
   "metadata": {
    "scrolled": true
   },
   "outputs": [
    {
     "data": {
      "text/plain": [
       "(125783, 6)"
      ]
     },
     "execution_count": 18,
     "metadata": {},
     "output_type": "execute_result"
    }
   ],
   "source": [
    "clean_trump_df.shape"
   ]
  },
  {
   "cell_type": "code",
   "execution_count": 19,
   "metadata": {},
   "outputs": [
    {
     "data": {
      "text/html": [
       "<div>\n",
       "<style scoped>\n",
       "    .dataframe tbody tr th:only-of-type {\n",
       "        vertical-align: middle;\n",
       "    }\n",
       "\n",
       "    .dataframe tbody tr th {\n",
       "        vertical-align: top;\n",
       "    }\n",
       "\n",
       "    .dataframe thead th {\n",
       "        text-align: right;\n",
       "    }\n",
       "</style>\n",
       "<table border=\"1\" class=\"dataframe\">\n",
       "  <thead>\n",
       "    <tr style=\"text-align: right;\">\n",
       "      <th></th>\n",
       "      <th>user_id</th>\n",
       "      <th>tweet</th>\n",
       "      <th>state</th>\n",
       "      <th>likes</th>\n",
       "      <th>retweet_count</th>\n",
       "      <th>avg_polarity</th>\n",
       "    </tr>\n",
       "  </thead>\n",
       "  <tbody>\n",
       "    <tr>\n",
       "      <th>0</th>\n",
       "      <td>3.606665e+08</td>\n",
       "      <td>#Elecciones2020 | En #Florida: #JoeBiden dice ...</td>\n",
       "      <td>Florida</td>\n",
       "      <td>0.0</td>\n",
       "      <td>0.0</td>\n",
       "      <td>0.000000</td>\n",
       "    </tr>\n",
       "    <tr>\n",
       "      <th>2</th>\n",
       "      <td>8.436472e+06</td>\n",
       "      <td>#Trump: As a student I used to hear for years,...</td>\n",
       "      <td>Oregon</td>\n",
       "      <td>2.0</td>\n",
       "      <td>1.0</td>\n",
       "      <td>0.461917</td>\n",
       "    </tr>\n",
       "    <tr>\n",
       "      <th>4</th>\n",
       "      <td>4.741380e+07</td>\n",
       "      <td>You get a tie! And you get a tie! #Trump ‘s ra...</td>\n",
       "      <td>District of Columbia</td>\n",
       "      <td>4.0</td>\n",
       "      <td>3.0</td>\n",
       "      <td>0.000000</td>\n",
       "    </tr>\n",
       "    <tr>\n",
       "      <th>5</th>\n",
       "      <td>1.138416e+09</td>\n",
       "      <td>@CLady62 Her 15 minutes were over long time ag...</td>\n",
       "      <td>California</td>\n",
       "      <td>2.0</td>\n",
       "      <td>0.0</td>\n",
       "      <td>-0.323204</td>\n",
       "    </tr>\n",
       "    <tr>\n",
       "      <th>7</th>\n",
       "      <td>9.007611e+17</td>\n",
       "      <td>@DeeviousDenise @realDonaldTrump @nypost There...</td>\n",
       "      <td>Ohio</td>\n",
       "      <td>0.0</td>\n",
       "      <td>0.0</td>\n",
       "      <td>-0.041564</td>\n",
       "    </tr>\n",
       "    <tr>\n",
       "      <th>...</th>\n",
       "      <td>...</td>\n",
       "      <td>...</td>\n",
       "      <td>...</td>\n",
       "      <td>...</td>\n",
       "      <td>...</td>\n",
       "      <td>...</td>\n",
       "    </tr>\n",
       "    <tr>\n",
       "      <th>525435</th>\n",
       "      <td>6.248908e+08</td>\n",
       "      <td>@TimOBrien #Trump is a Squatter. He tryna evad...</td>\n",
       "      <td>California</td>\n",
       "      <td>0.0</td>\n",
       "      <td>0.0</td>\n",
       "      <td>-0.229400</td>\n",
       "    </tr>\n",
       "    <tr>\n",
       "      <th>525438</th>\n",
       "      <td>8.142944e+17</td>\n",
       "      <td>@BretBaier When Harris interviewed those repub...</td>\n",
       "      <td>California</td>\n",
       "      <td>0.0</td>\n",
       "      <td>0.0</td>\n",
       "      <td>0.401783</td>\n",
       "    </tr>\n",
       "    <tr>\n",
       "      <th>525452</th>\n",
       "      <td>1.277273e+18</td>\n",
       "      <td>#Trump #Trump2020 #MAGA #4MoreYears I told you...</td>\n",
       "      <td>Pennsylvania</td>\n",
       "      <td>1.0</td>\n",
       "      <td>0.0</td>\n",
       "      <td>0.000000</td>\n",
       "    </tr>\n",
       "    <tr>\n",
       "      <th>525459</th>\n",
       "      <td>4.053900e+09</td>\n",
       "      <td>Here. We. Go. #ElectionNight \\n\\n🔴 #Trump 0\\n🔵...</td>\n",
       "      <td>Minnesota</td>\n",
       "      <td>0.0</td>\n",
       "      <td>0.0</td>\n",
       "      <td>0.000000</td>\n",
       "    </tr>\n",
       "    <tr>\n",
       "      <th>525464</th>\n",
       "      <td>1.693623e+07</td>\n",
       "      <td>I’m hoping a few good hours of wind therapy wi...</td>\n",
       "      <td>Kansas</td>\n",
       "      <td>12.0</td>\n",
       "      <td>0.0</td>\n",
       "      <td>0.585433</td>\n",
       "    </tr>\n",
       "  </tbody>\n",
       "</table>\n",
       "<p>125783 rows × 6 columns</p>\n",
       "</div>"
      ],
      "text/plain": [
       "             user_id                                              tweet  \\\n",
       "0       3.606665e+08  #Elecciones2020 | En #Florida: #JoeBiden dice ...   \n",
       "2       8.436472e+06  #Trump: As a student I used to hear for years,...   \n",
       "4       4.741380e+07  You get a tie! And you get a tie! #Trump ‘s ra...   \n",
       "5       1.138416e+09  @CLady62 Her 15 minutes were over long time ag...   \n",
       "7       9.007611e+17  @DeeviousDenise @realDonaldTrump @nypost There...   \n",
       "...              ...                                                ...   \n",
       "525435  6.248908e+08  @TimOBrien #Trump is a Squatter. He tryna evad...   \n",
       "525438  8.142944e+17  @BretBaier When Harris interviewed those repub...   \n",
       "525452  1.277273e+18  #Trump #Trump2020 #MAGA #4MoreYears I told you...   \n",
       "525459  4.053900e+09  Here. We. Go. #ElectionNight \\n\\n🔴 #Trump 0\\n🔵...   \n",
       "525464  1.693623e+07  I’m hoping a few good hours of wind therapy wi...   \n",
       "\n",
       "                       state  likes  retweet_count  avg_polarity  \n",
       "0                    Florida    0.0            0.0      0.000000  \n",
       "2                     Oregon    2.0            1.0      0.461917  \n",
       "4       District of Columbia    4.0            3.0      0.000000  \n",
       "5                 California    2.0            0.0     -0.323204  \n",
       "7                       Ohio    0.0            0.0     -0.041564  \n",
       "...                      ...    ...            ...           ...  \n",
       "525435            California    0.0            0.0     -0.229400  \n",
       "525438            California    0.0            0.0      0.401783  \n",
       "525452          Pennsylvania    1.0            0.0      0.000000  \n",
       "525459             Minnesota    0.0            0.0      0.000000  \n",
       "525464                Kansas   12.0            0.0      0.585433  \n",
       "\n",
       "[125783 rows x 6 columns]"
      ]
     },
     "execution_count": 19,
     "metadata": {},
     "output_type": "execute_result"
    }
   ],
   "source": [
    "clean_trump_df"
   ]
  },
  {
   "cell_type": "code",
   "execution_count": 20,
   "metadata": {},
   "outputs": [],
   "source": [
    "#export to csv\n",
    "clean_biden_df.to_csv('clean_biden.csv')\n",
    "clean_trump_df.to_csv('clean_trump.csv')"
   ]
  }
 ],
 "metadata": {
  "kernelspec": {
   "display_name": "Python 3",
   "language": "python",
   "name": "python3"
  },
  "language_info": {
   "codemirror_mode": {
    "name": "ipython",
    "version": 3
   },
   "file_extension": ".py",
   "mimetype": "text/x-python",
   "name": "python",
   "nbconvert_exporter": "python",
   "pygments_lexer": "ipython3",
   "version": "3.7.6"
  }
 },
 "nbformat": 4,
 "nbformat_minor": 4
}
